{
  "nbformat": 4,
  "nbformat_minor": 0,
  "metadata": {
    "colab": {
      "provenance": [],
      "authorship_tag": "ABX9TyMZAr1/TmtMn3/wYVOi0xCe",
      "include_colab_link": true
    },
    "kernelspec": {
      "name": "python3",
      "display_name": "Python 3"
    },
    "language_info": {
      "name": "python"
    }
  },
  "cells": [
    {
      "cell_type": "markdown",
      "metadata": {
        "id": "view-in-github",
        "colab_type": "text"
      },
      "source": [
        "<a href=\"https://colab.research.google.com/github/pdushie/bash-shell-scripting/blob/master/Intro_to_Python.ipynb\" target=\"_parent\"><img src=\"https://colab.research.google.com/assets/colab-badge.svg\" alt=\"Open In Colab\"/></a>"
      ]
    },
    {
      "cell_type": "code",
      "execution_count": null,
      "metadata": {
        "colab": {
          "base_uri": "https://localhost:8080/"
        },
        "id": "OdqvSlWH3WRJ",
        "outputId": "5ae4f823-b94a-4c32-d37e-29dfcaea5760"
      },
      "outputs": [
        {
          "output_type": "stream",
          "name": "stdout",
          "text": [
            "Hello world\n"
          ]
        }
      ],
      "source": [
        "print (\"Hello world\")"
      ]
    },
    {
      "cell_type": "code",
      "source": [
        "print (\"Philip\",\"Dushie\")"
      ],
      "metadata": {
        "colab": {
          "base_uri": "https://localhost:8080/"
        },
        "id": "I-UNnGEM4Wz5",
        "outputId": "8adde01a-351c-49b4-ea80-bd765fc36cf9"
      },
      "execution_count": null,
      "outputs": [
        {
          "output_type": "stream",
          "name": "stdout",
          "text": [
            "Philip Dushie\n"
          ]
        }
      ]
    },
    {
      "cell_type": "code",
      "source": [
        "print (\"Philip\")\n",
        "print (\"Dushie\")"
      ],
      "metadata": {
        "colab": {
          "base_uri": "https://localhost:8080/"
        },
        "id": "w8fBBBlq42ro",
        "outputId": "d96c8b7f-a101-49e6-c9c3-4b947b4a0caa"
      },
      "execution_count": null,
      "outputs": [
        {
          "output_type": "stream",
          "name": "stdout",
          "text": [
            "Philip\n",
            "Dushie\n"
          ]
        }
      ]
    },
    {
      "cell_type": "code",
      "source": [
        "print (\"Philip\",end=\"***\")\n",
        "print (\"Dushie\")"
      ],
      "metadata": {
        "colab": {
          "base_uri": "https://localhost:8080/"
        },
        "id": "XKlKYcVb5E9Y",
        "outputId": "7eb9c1f3-b506-4245-c092-035bd9107435"
      },
      "execution_count": null,
      "outputs": [
        {
          "output_type": "stream",
          "name": "stdout",
          "text": [
            "Philip***Dushie\n"
          ]
        }
      ]
    },
    {
      "cell_type": "code",
      "source": [
        "print (\"Philip\",end=\"\\n\")\n",
        "print (\"Dushie\")"
      ],
      "metadata": {
        "colab": {
          "base_uri": "https://localhost:8080/"
        },
        "id": "0NkZaHAD5SgI",
        "outputId": "84878086-3ab8-4e3f-9cfc-4712aa219571"
      },
      "execution_count": null,
      "outputs": [
        {
          "output_type": "stream",
          "name": "stdout",
          "text": [
            "Philip\n",
            "Dushie\n"
          ]
        }
      ]
    },
    {
      "cell_type": "code",
      "source": [
        "print (\"use the \",\"\\\\n\", \"character\")"
      ],
      "metadata": {
        "colab": {
          "base_uri": "https://localhost:8080/"
        },
        "id": "KbsLeNrQ5m-Y",
        "outputId": "be22ab76-cdcf-4047-90db-ee82f0d76542"
      },
      "execution_count": null,
      "outputs": [
        {
          "output_type": "stream",
          "name": "stdout",
          "text": [
            "use the  \\n character\n"
          ]
        }
      ]
    },
    {
      "cell_type": "code",
      "source": [
        "print (r\"use the \\n character\")"
      ],
      "metadata": {
        "colab": {
          "base_uri": "https://localhost:8080/"
        },
        "id": "dUCBikep57oo",
        "outputId": "fab1a579-7b47-4026-940b-1fabcd8d625d"
      },
      "execution_count": null,
      "outputs": [
        {
          "output_type": "stream",
          "name": "stdout",
          "text": [
            "use the \\n character\n"
          ]
        }
      ]
    },
    {
      "cell_type": "code",
      "source": [
        "print (20*\"Philip \\t\")"
      ],
      "metadata": {
        "colab": {
          "base_uri": "https://localhost:8080/"
        },
        "id": "7Bom4Egx6V9o",
        "outputId": "9f539527-05df-44ab-a293-f2cae5677ed1"
      },
      "execution_count": null,
      "outputs": [
        {
          "output_type": "stream",
          "name": "stdout",
          "text": [
            "Philip \tPhilip \tPhilip \tPhilip \tPhilip \tPhilip \tPhilip \tPhilip \tPhilip \tPhilip \tPhilip \tPhilip \tPhilip \tPhilip \tPhilip \tPhilip \tPhilip \tPhilip \tPhilip \tPhilip \t\n"
          ]
        }
      ]
    },
    {
      "cell_type": "code",
      "source": [
        "print (\"chicken soup\")"
      ],
      "metadata": {
        "colab": {
          "base_uri": "https://localhost:8080/"
        },
        "id": "carZKhgD6ogo",
        "outputId": "4a10e99b-7911-4edd-f859-f9b9d5289aea"
      },
      "execution_count": null,
      "outputs": [
        {
          "output_type": "stream",
          "name": "stdout",
          "text": [
            "chicken soup\n"
          ]
        }
      ]
    },
    {
      "cell_type": "code",
      "source": [],
      "metadata": {
        "id": "RZnd0aIC7UP4"
      },
      "execution_count": null,
      "outputs": []
    },
    {
      "cell_type": "code",
      "source": [
        "print(\"This is Dean's favorite class!\")"
      ],
      "metadata": {
        "colab": {
          "base_uri": "https://localhost:8080/"
        },
        "id": "sGvKIXvh70HJ",
        "outputId": "635f65f1-c3b9-4b80-889e-3592b284f36d"
      },
      "execution_count": null,
      "outputs": [
        {
          "output_type": "stream",
          "name": "stdout",
          "text": [
            "This is Dean's favorite class!\n"
          ]
        }
      ]
    },
    {
      "cell_type": "code",
      "source": [
        "from os import name\n",
        "name=\"Philip\"\n",
        "print (\"My name is\",name)\n",
        "type (name)"
      ],
      "metadata": {
        "colab": {
          "base_uri": "https://localhost:8080/"
        },
        "id": "QSVP71Fr8Ee4",
        "outputId": "7b45907d-6934-4af7-a21c-6e8772378e86"
      },
      "execution_count": null,
      "outputs": [
        {
          "output_type": "stream",
          "name": "stdout",
          "text": [
            "My name is Philip\n"
          ]
        },
        {
          "output_type": "execute_result",
          "data": {
            "text/plain": [
              "str"
            ]
          },
          "metadata": {},
          "execution_count": 11
        }
      ]
    },
    {
      "cell_type": "code",
      "source": [
        "print1=\"Philip\"\n",
        "print (\"My name is\",print1)"
      ],
      "metadata": {
        "colab": {
          "base_uri": "https://localhost:8080/"
        },
        "id": "qN9hVz8w85gI",
        "outputId": "5c03b0be-af76-4c32-8c59-2523bedbd8c9"
      },
      "execution_count": null,
      "outputs": [
        {
          "output_type": "stream",
          "name": "stdout",
          "text": [
            "My name is Philip\n"
          ]
        }
      ]
    },
    {
      "cell_type": "code",
      "source": [
        "print (\"Please enter your first name:\")\n",
        "first_name=input()\n",
        "print(\"Welcome to NSCC\",first_name)"
      ],
      "metadata": {
        "colab": {
          "base_uri": "https://localhost:8080/"
        },
        "id": "qhdDKY9d9Opo",
        "outputId": "0d42d0fe-2066-4dbf-b739-aede74fb2c92"
      },
      "execution_count": null,
      "outputs": [
        {
          "output_type": "stream",
          "name": "stdout",
          "text": [
            "Please enter your first name:\n",
            "Philip\n",
            "Welcome to NSCC Philip\n"
          ]
        }
      ]
    },
    {
      "cell_type": "code",
      "source": [
        "first_name=input(\"Input your first name:\")\n",
        "print (\"Nice to meet you\", first_name)"
      ],
      "metadata": {
        "colab": {
          "base_uri": "https://localhost:8080/"
        },
        "id": "tMi-5Umt-eRY",
        "outputId": "4720ed59-27e8-43e6-db63-17f640b314aa"
      },
      "execution_count": null,
      "outputs": [
        {
          "output_type": "stream",
          "name": "stdout",
          "text": [
            "Input your first name:David\n",
            "Nice to meet you David\n"
          ]
        }
      ]
    },
    {
      "cell_type": "code",
      "source": [
        "num1=int(input(\"Enter first number:\"))\n",
        "num2=int(input(\"Enter second number:\"))\n",
        "print (\"The sum of\",num1,\"and\",num2,\"is\",num1 + num2)"
      ],
      "metadata": {
        "colab": {
          "base_uri": "https://localhost:8080/"
        },
        "id": "cKGmLgSV_L85",
        "outputId": "7c63bef3-3cae-4a0f-c9c0-93f54fc28205"
      },
      "execution_count": null,
      "outputs": [
        {
          "output_type": "stream",
          "name": "stdout",
          "text": [
            "Enter first number:400\n",
            "Enter second number:600\n",
            "The sum of 400 and 600 is 1000\n"
          ]
        }
      ]
    },
    {
      "cell_type": "code",
      "source": [
        "print(\"Hello, welcome to Programming for AI Classs. Introduce yourself:\")\n",
        "name=input (\"Name:\")\n",
        "age=int(input(\"Age\"))\n",
        "current_year=2023\n",
        "print(\"Hello\", name, \"your year of birth is\",current_year-age)\n",
        "\n",
        "print (\"How long have you been coding for?\")\n",
        "duration=int(input(\"Duration you have been coding for \\n\"))\n",
        "\n",
        "if duration<5:\n",
        "  print (\"You will need to spend more time coding\")\n",
        "\n",
        "elif duration >5:\n",
        "  print (\"You're good to go!\")\n"
      ],
      "metadata": {
        "colab": {
          "base_uri": "https://localhost:8080/"
        },
        "id": "fXVQMIx5AY6Y",
        "outputId": "2012593a-cf4a-4483-8108-6f48c358016b"
      },
      "execution_count": null,
      "outputs": [
        {
          "output_type": "stream",
          "name": "stdout",
          "text": [
            "Hello, welcome to Programming for AI Classs. Introduce yourself:\n",
            "Name:Philip\n",
            "Age2\n",
            "Hello Philip your year of birth is 2021\n",
            "How long have you been coding for?\n",
            "Duration you have been coding for \n",
            "3\n",
            "You will need to spend more time coding\n"
          ]
        }
      ]
    },
    {
      "cell_type": "code",
      "source": [],
      "metadata": {
        "id": "mAvCcsnjCo6J"
      },
      "execution_count": null,
      "outputs": []
    },
    {
      "cell_type": "markdown",
      "source": [
        "A code to do <b>some self introduction</b>\n",
        "\n",
        "This is also __bold__\n",
        "[Markdown cheat sheet](https://www.markdownguide.org/cheat-sheet/)"
      ],
      "metadata": {
        "id": "1V7Gz1rEFHSs"
      }
    },
    {
      "cell_type": "code",
      "source": [],
      "metadata": {
        "id": "PtYsHyF-GHIJ"
      },
      "execution_count": null,
      "outputs": []
    }
  ]
}